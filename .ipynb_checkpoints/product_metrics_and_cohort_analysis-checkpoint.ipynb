{
 "cells": [
  {
   "cell_type": "code",
   "execution_count": 1,
   "id": "c7b5ffc1",
   "metadata": {},
   "outputs": [],
   "source": [
    "import pandas as pd\n",
    "import numpy as np\n",
    "import matplotlib.pyplot as plt\n",
    "import seaborn as sns\n",
    "from datetime import date"
   ]
  },
  {
   "cell_type": "code",
   "execution_count": 2,
   "id": "84127bb3",
   "metadata": {},
   "outputs": [],
   "source": [
    "df = pd.read_csv('KC_case_data.csv')"
   ]
  },
  {
   "cell_type": "code",
   "execution_count": 3,
   "id": "38f051fc",
   "metadata": {},
   "outputs": [
    {
     "data": {
      "text/html": [
       "<div>\n",
       "<style scoped>\n",
       "    .dataframe tbody tr th:only-of-type {\n",
       "        vertical-align: middle;\n",
       "    }\n",
       "\n",
       "    .dataframe tbody tr th {\n",
       "        vertical-align: top;\n",
       "    }\n",
       "\n",
       "    .dataframe thead th {\n",
       "        text-align: right;\n",
       "    }\n",
       "</style>\n",
       "<table border=\"1\" class=\"dataframe\">\n",
       "  <thead>\n",
       "    <tr style=\"text-align: right;\">\n",
       "      <th></th>\n",
       "      <th>date</th>\n",
       "      <th>event</th>\n",
       "      <th>purchase_sum</th>\n",
       "      <th>os_name</th>\n",
       "      <th>device_id</th>\n",
       "      <th>gender</th>\n",
       "      <th>city</th>\n",
       "      <th>utm_source</th>\n",
       "    </tr>\n",
       "  </thead>\n",
       "  <tbody>\n",
       "    <tr>\n",
       "      <th>0</th>\n",
       "      <td>2020-01-01</td>\n",
       "      <td>app_start</td>\n",
       "      <td>NaN</td>\n",
       "      <td>android</td>\n",
       "      <td>669460</td>\n",
       "      <td>female</td>\n",
       "      <td>Moscow</td>\n",
       "      <td>-</td>\n",
       "    </tr>\n",
       "    <tr>\n",
       "      <th>1</th>\n",
       "      <td>2020-01-01</td>\n",
       "      <td>app_start</td>\n",
       "      <td>NaN</td>\n",
       "      <td>ios</td>\n",
       "      <td>833621</td>\n",
       "      <td>male</td>\n",
       "      <td>Moscow</td>\n",
       "      <td>vk_ads</td>\n",
       "    </tr>\n",
       "    <tr>\n",
       "      <th>2</th>\n",
       "      <td>2020-01-01</td>\n",
       "      <td>app_start</td>\n",
       "      <td>NaN</td>\n",
       "      <td>android</td>\n",
       "      <td>1579237</td>\n",
       "      <td>male</td>\n",
       "      <td>Saint-Petersburg</td>\n",
       "      <td>referal</td>\n",
       "    </tr>\n",
       "    <tr>\n",
       "      <th>3</th>\n",
       "      <td>2020-01-01</td>\n",
       "      <td>app_start</td>\n",
       "      <td>NaN</td>\n",
       "      <td>android</td>\n",
       "      <td>1737182</td>\n",
       "      <td>female</td>\n",
       "      <td>Moscow</td>\n",
       "      <td>facebook_ads</td>\n",
       "    </tr>\n",
       "    <tr>\n",
       "      <th>4</th>\n",
       "      <td>2020-01-01</td>\n",
       "      <td>app_start</td>\n",
       "      <td>NaN</td>\n",
       "      <td>ios</td>\n",
       "      <td>4029024</td>\n",
       "      <td>female</td>\n",
       "      <td>Moscow</td>\n",
       "      <td>facebook_ads</td>\n",
       "    </tr>\n",
       "  </tbody>\n",
       "</table>\n",
       "</div>"
      ],
      "text/plain": [
       "         date      event  purchase_sum  os_name  device_id  gender  \\\n",
       "0  2020-01-01  app_start           NaN  android     669460  female   \n",
       "1  2020-01-01  app_start           NaN      ios     833621    male   \n",
       "2  2020-01-01  app_start           NaN  android    1579237    male   \n",
       "3  2020-01-01  app_start           NaN  android    1737182  female   \n",
       "4  2020-01-01  app_start           NaN      ios    4029024  female   \n",
       "\n",
       "               city    utm_source  \n",
       "0            Moscow             -  \n",
       "1            Moscow        vk_ads  \n",
       "2  Saint-Petersburg       referal  \n",
       "3            Moscow  facebook_ads  \n",
       "4            Moscow  facebook_ads  "
      ]
     },
     "execution_count": 3,
     "metadata": {},
     "output_type": "execute_result"
    }
   ],
   "source": [
    "df.head()"
   ]
  },
  {
   "cell_type": "code",
   "execution_count": 4,
   "id": "90f460ef",
   "metadata": {},
   "outputs": [
    {
     "name": "stdout",
     "output_type": "stream",
     "text": [
      "<class 'pandas.core.frame.DataFrame'>\n",
      "RangeIndex: 2747968 entries, 0 to 2747967\n",
      "Data columns (total 8 columns):\n",
      " #   Column        Dtype  \n",
      "---  ------        -----  \n",
      " 0   date          object \n",
      " 1   event         object \n",
      " 2   purchase_sum  float64\n",
      " 3   os_name       object \n",
      " 4   device_id     int64  \n",
      " 5   gender        object \n",
      " 6   city          object \n",
      " 7   utm_source    object \n",
      "dtypes: float64(1), int64(1), object(6)\n",
      "memory usage: 167.7+ MB\n"
     ]
    }
   ],
   "source": [
    "df.info()"
   ]
  },
  {
   "cell_type": "code",
   "execution_count": 5,
   "id": "a1144f09",
   "metadata": {},
   "outputs": [],
   "source": [
    "df['date'] = pd.to_datetime(df.date)"
   ]
  },
  {
   "cell_type": "code",
   "execution_count": 6,
   "id": "da244898",
   "metadata": {},
   "outputs": [],
   "source": [
    "df['month'] = df.date.apply(lambda x: x.month)"
   ]
  },
  {
   "cell_type": "markdown",
   "id": "4d8d9946",
   "metadata": {},
   "source": [
    "<span style=\"color:SteelBlue\">**1. MAU февраля:**</span>"
   ]
  },
  {
   "cell_type": "code",
   "execution_count": 7,
   "id": "4e7a91ca",
   "metadata": {},
   "outputs": [
    {
     "data": {
      "text/plain": [
       "75032"
      ]
     },
     "execution_count": 7,
     "metadata": {},
     "output_type": "execute_result"
    }
   ],
   "source": [
    "df.groupby('month', as_index=False).agg(MAU=('device_id','nunique')).MAU.values[1]"
   ]
  },
  {
   "cell_type": "markdown",
   "id": "c4eabb8e",
   "metadata": {},
   "source": [
    "<span style=\"color:SteelBlue\">**2. Количество установок в январе:**</span>"
   ]
  },
  {
   "cell_type": "code",
   "execution_count": 8,
   "id": "72806553",
   "metadata": {},
   "outputs": [
    {
     "data": {
      "text/plain": [
       "80297"
      ]
     },
     "execution_count": 8,
     "metadata": {},
     "output_type": "execute_result"
    }
   ],
   "source": [
    "df.query('event == \"app_install\"').groupby('month', as_index=False).agg(MAU=('device_id','nunique')).MAU.values[0]"
   ]
  },
  {
   "cell_type": "markdown",
   "id": "388e56f8",
   "metadata": {},
   "source": [
    "<span style=\"color:SteelBlue\">**3. Присвойте пользователям когорты по дню установки приложения и посчитайте для них конверсию из установки в покупку в течение 7 дней. Для какой когорты конверсия была наибольшей? Ответ впишите в формате: дд.мм.гггг**</span>\n",
    "\n",
    "Примечание: считаем пользователя сконвертировавшимся, если с момента установки до совершения первой покупки прошло не более 7 дней."
   ]
  },
  {
   "cell_type": "code",
   "execution_count": 9,
   "id": "23269ceb",
   "metadata": {},
   "outputs": [],
   "source": [
    "# Создаем когорту\n",
    "cohort = df.query('event == \"app_install\"').groupby('device_id', as_index=False).agg(install_day=('date', 'min'))"
   ]
  },
  {
   "cell_type": "code",
   "execution_count": 10,
   "id": "d827c063",
   "metadata": {},
   "outputs": [],
   "source": [
    "# Создаем список платящих пользователей\n",
    "bought_users = df.query('event == \"purchase\"').groupby('device_id', as_index=False).agg(bought_day=('date', 'min'))"
   ]
  },
  {
   "cell_type": "code",
   "execution_count": 11,
   "id": "9c7b5943",
   "metadata": {},
   "outputs": [
    {
     "data": {
      "text/html": [
       "<div>\n",
       "<style scoped>\n",
       "    .dataframe tbody tr th:only-of-type {\n",
       "        vertical-align: middle;\n",
       "    }\n",
       "\n",
       "    .dataframe tbody tr th {\n",
       "        vertical-align: top;\n",
       "    }\n",
       "\n",
       "    .dataframe thead th {\n",
       "        text-align: right;\n",
       "    }\n",
       "</style>\n",
       "<table border=\"1\" class=\"dataframe\">\n",
       "  <thead>\n",
       "    <tr style=\"text-align: right;\">\n",
       "      <th></th>\n",
       "      <th>device_id</th>\n",
       "      <th>install_day</th>\n",
       "      <th>bought_day</th>\n",
       "      <th>date_diff</th>\n",
       "    </tr>\n",
       "  </thead>\n",
       "  <tbody>\n",
       "    <tr>\n",
       "      <th>0</th>\n",
       "      <td>4013</td>\n",
       "      <td>2020-01-15</td>\n",
       "      <td>NaT</td>\n",
       "      <td>NaN</td>\n",
       "    </tr>\n",
       "    <tr>\n",
       "      <th>1</th>\n",
       "      <td>4016</td>\n",
       "      <td>2020-01-04</td>\n",
       "      <td>NaT</td>\n",
       "      <td>NaN</td>\n",
       "    </tr>\n",
       "    <tr>\n",
       "      <th>2</th>\n",
       "      <td>4046</td>\n",
       "      <td>2020-01-04</td>\n",
       "      <td>2020-01-04</td>\n",
       "      <td>0.0</td>\n",
       "    </tr>\n",
       "    <tr>\n",
       "      <th>3</th>\n",
       "      <td>4065</td>\n",
       "      <td>2020-03-19</td>\n",
       "      <td>NaT</td>\n",
       "      <td>NaN</td>\n",
       "    </tr>\n",
       "    <tr>\n",
       "      <th>4</th>\n",
       "      <td>4067</td>\n",
       "      <td>2020-01-31</td>\n",
       "      <td>NaT</td>\n",
       "      <td>NaN</td>\n",
       "    </tr>\n",
       "  </tbody>\n",
       "</table>\n",
       "</div>"
      ],
      "text/plain": [
       "   device_id install_day bought_day  date_diff\n",
       "0       4013  2020-01-15        NaT        NaN\n",
       "1       4016  2020-01-04        NaT        NaN\n",
       "2       4046  2020-01-04 2020-01-04        0.0\n",
       "3       4065  2020-03-19        NaT        NaN\n",
       "4       4067  2020-01-31        NaT        NaN"
      ]
     },
     "execution_count": 11,
     "metadata": {},
     "output_type": "execute_result"
    }
   ],
   "source": [
    "# Создаем dataframe в который добавляем найденную когорту по установке приложения и объединяем его с когортой совершивших покупку\n",
    "cohort_df = cohort.merge(bought_users, on='device_id', how='left')\n",
    "cohort_df['date_diff'] = (cohort_df.bought_day - cohort_df.install_day).dt.days\n",
    "cohort_df.head()"
   ]
  },
  {
   "cell_type": "code",
   "execution_count": 12,
   "id": "58010aa8",
   "metadata": {},
   "outputs": [
    {
     "data": {
      "text/html": [
       "<div>\n",
       "<style scoped>\n",
       "    .dataframe tbody tr th:only-of-type {\n",
       "        vertical-align: middle;\n",
       "    }\n",
       "\n",
       "    .dataframe tbody tr th {\n",
       "        vertical-align: top;\n",
       "    }\n",
       "\n",
       "    .dataframe thead th {\n",
       "        text-align: right;\n",
       "    }\n",
       "</style>\n",
       "<table border=\"1\" class=\"dataframe\">\n",
       "  <thead>\n",
       "    <tr style=\"text-align: right;\">\n",
       "      <th></th>\n",
       "      <th>device_id</th>\n",
       "      <th>install_day</th>\n",
       "      <th>bought_day</th>\n",
       "      <th>date_diff</th>\n",
       "      <th>convert_condition</th>\n",
       "    </tr>\n",
       "  </thead>\n",
       "  <tbody>\n",
       "    <tr>\n",
       "      <th>0</th>\n",
       "      <td>4013</td>\n",
       "      <td>2020-01-15</td>\n",
       "      <td>NaT</td>\n",
       "      <td>NaN</td>\n",
       "      <td>False</td>\n",
       "    </tr>\n",
       "    <tr>\n",
       "      <th>1</th>\n",
       "      <td>4016</td>\n",
       "      <td>2020-01-04</td>\n",
       "      <td>NaT</td>\n",
       "      <td>NaN</td>\n",
       "      <td>False</td>\n",
       "    </tr>\n",
       "    <tr>\n",
       "      <th>2</th>\n",
       "      <td>4046</td>\n",
       "      <td>2020-01-04</td>\n",
       "      <td>2020-01-04</td>\n",
       "      <td>0.0</td>\n",
       "      <td>True</td>\n",
       "    </tr>\n",
       "    <tr>\n",
       "      <th>3</th>\n",
       "      <td>4065</td>\n",
       "      <td>2020-03-19</td>\n",
       "      <td>NaT</td>\n",
       "      <td>NaN</td>\n",
       "      <td>False</td>\n",
       "    </tr>\n",
       "    <tr>\n",
       "      <th>4</th>\n",
       "      <td>4067</td>\n",
       "      <td>2020-01-31</td>\n",
       "      <td>NaT</td>\n",
       "      <td>NaN</td>\n",
       "      <td>False</td>\n",
       "    </tr>\n",
       "  </tbody>\n",
       "</table>\n",
       "</div>"
      ],
      "text/plain": [
       "   device_id install_day bought_day  date_diff  convert_condition\n",
       "0       4013  2020-01-15        NaT        NaN              False\n",
       "1       4016  2020-01-04        NaT        NaN              False\n",
       "2       4046  2020-01-04 2020-01-04        0.0               True\n",
       "3       4065  2020-03-19        NaT        NaN              False\n",
       "4       4067  2020-01-31        NaT        NaN              False"
      ]
     },
     "execution_count": 12,
     "metadata": {},
     "output_type": "execute_result"
    }
   ],
   "source": [
    "# Добавляем колонку условия конвертации при разнице в днях между установкой и первой датой покупки до 7-и дней\n",
    "cohort_df['convert_condition'] = cohort_df['date_diff'].notna()\n",
    "cohort_df.head()"
   ]
  },
  {
   "cell_type": "code",
   "execution_count": 13,
   "id": "e0584c5d",
   "metadata": {
    "scrolled": true
   },
   "outputs": [],
   "source": [
    "# Считаем количество уникальных пользователей для когорт\n",
    "install_df = (cohort_df.groupby('install_day', as_index=False)\n",
    "                       .agg(install=('device_id', 'count'))\n",
    "                       .rename(columns={\"install_day\": \"date\"}))\n",
    "\n",
    "purchase_df = (cohort_df[(cohort_df['date_diff'] < 8)]\n",
    "               .groupby('install_day', as_index=False)\n",
    "               .agg(purchase=('convert_condition', 'sum'))\n",
    "               .rename(columns={\"install_day\": \"date\"}))"
   ]
  },
  {
   "cell_type": "code",
   "execution_count": 14,
   "id": "5d9369db",
   "metadata": {},
   "outputs": [
    {
     "data": {
      "text/html": [
       "<div>\n",
       "<style scoped>\n",
       "    .dataframe tbody tr th:only-of-type {\n",
       "        vertical-align: middle;\n",
       "    }\n",
       "\n",
       "    .dataframe tbody tr th {\n",
       "        vertical-align: top;\n",
       "    }\n",
       "\n",
       "    .dataframe thead th {\n",
       "        text-align: right;\n",
       "    }\n",
       "</style>\n",
       "<table border=\"1\" class=\"dataframe\">\n",
       "  <thead>\n",
       "    <tr style=\"text-align: right;\">\n",
       "      <th></th>\n",
       "      <th>date</th>\n",
       "      <th>install</th>\n",
       "      <th>purchase</th>\n",
       "    </tr>\n",
       "  </thead>\n",
       "  <tbody>\n",
       "    <tr>\n",
       "      <th>0</th>\n",
       "      <td>2020-01-01</td>\n",
       "      <td>3579</td>\n",
       "      <td>1408</td>\n",
       "    </tr>\n",
       "    <tr>\n",
       "      <th>1</th>\n",
       "      <td>2020-01-02</td>\n",
       "      <td>3144</td>\n",
       "      <td>1186</td>\n",
       "    </tr>\n",
       "    <tr>\n",
       "      <th>2</th>\n",
       "      <td>2020-01-03</td>\n",
       "      <td>2402</td>\n",
       "      <td>834</td>\n",
       "    </tr>\n",
       "    <tr>\n",
       "      <th>3</th>\n",
       "      <td>2020-01-04</td>\n",
       "      <td>1831</td>\n",
       "      <td>639</td>\n",
       "    </tr>\n",
       "    <tr>\n",
       "      <th>4</th>\n",
       "      <td>2020-01-05</td>\n",
       "      <td>1671</td>\n",
       "      <td>587</td>\n",
       "    </tr>\n",
       "  </tbody>\n",
       "</table>\n",
       "</div>"
      ],
      "text/plain": [
       "        date  install  purchase\n",
       "0 2020-01-01     3579      1408\n",
       "1 2020-01-02     3144      1186\n",
       "2 2020-01-03     2402       834\n",
       "3 2020-01-04     1831       639\n",
       "4 2020-01-05     1671       587"
      ]
     },
     "execution_count": 14,
     "metadata": {},
     "output_type": "execute_result"
    }
   ],
   "source": [
    "# Объединяем подсчеты из предыдущего шага\n",
    "install_df = install_df.merge(purchase_df, on='date', how='left')\n",
    "install_df.head()"
   ]
  },
  {
   "cell_type": "code",
   "execution_count": 15,
   "id": "d26f6c3c",
   "metadata": {},
   "outputs": [
    {
     "data": {
      "text/html": [
       "<div>\n",
       "<style scoped>\n",
       "    .dataframe tbody tr th:only-of-type {\n",
       "        vertical-align: middle;\n",
       "    }\n",
       "\n",
       "    .dataframe tbody tr th {\n",
       "        vertical-align: top;\n",
       "    }\n",
       "\n",
       "    .dataframe thead th {\n",
       "        text-align: right;\n",
       "    }\n",
       "</style>\n",
       "<table border=\"1\" class=\"dataframe\">\n",
       "  <thead>\n",
       "    <tr style=\"text-align: right;\">\n",
       "      <th></th>\n",
       "      <th>date</th>\n",
       "      <th>install</th>\n",
       "      <th>purchase</th>\n",
       "      <th>CR</th>\n",
       "    </tr>\n",
       "  </thead>\n",
       "  <tbody>\n",
       "    <tr>\n",
       "      <th>0</th>\n",
       "      <td>2020-01-01</td>\n",
       "      <td>3579</td>\n",
       "      <td>1408</td>\n",
       "      <td>39.3%</td>\n",
       "    </tr>\n",
       "    <tr>\n",
       "      <th>1</th>\n",
       "      <td>2020-01-02</td>\n",
       "      <td>3144</td>\n",
       "      <td>1186</td>\n",
       "      <td>37.7%</td>\n",
       "    </tr>\n",
       "    <tr>\n",
       "      <th>2</th>\n",
       "      <td>2020-01-03</td>\n",
       "      <td>2402</td>\n",
       "      <td>834</td>\n",
       "      <td>34.7%</td>\n",
       "    </tr>\n",
       "    <tr>\n",
       "      <th>3</th>\n",
       "      <td>2020-01-04</td>\n",
       "      <td>1831</td>\n",
       "      <td>639</td>\n",
       "      <td>34.9%</td>\n",
       "    </tr>\n",
       "    <tr>\n",
       "      <th>4</th>\n",
       "      <td>2020-01-05</td>\n",
       "      <td>1671</td>\n",
       "      <td>587</td>\n",
       "      <td>35.1%</td>\n",
       "    </tr>\n",
       "  </tbody>\n",
       "</table>\n",
       "</div>"
      ],
      "text/plain": [
       "        date  install  purchase     CR\n",
       "0 2020-01-01     3579      1408  39.3%\n",
       "1 2020-01-02     3144      1186  37.7%\n",
       "2 2020-01-03     2402       834  34.7%\n",
       "3 2020-01-04     1831       639  34.9%\n",
       "4 2020-01-05     1671       587  35.1%"
      ]
     },
     "execution_count": 15,
     "metadata": {},
     "output_type": "execute_result"
    }
   ],
   "source": [
    "# Находим конверсию в покупку из установки в процентах\n",
    "install_df['CR'] = round((install_df.purchase / install_df.install) * 100, 1)\n",
    "install_df['CR'] = install_df['CR'].apply(lambda x: str(x) + '%')\n",
    "install_df.head()"
   ]
  },
  {
   "cell_type": "code",
   "execution_count": 16,
   "id": "e8aed983",
   "metadata": {},
   "outputs": [
    {
     "data": {
      "text/plain": [
       "'01-01-2020'"
      ]
     },
     "execution_count": 16,
     "metadata": {},
     "output_type": "execute_result"
    }
   ],
   "source": [
    "install_df.sort_values('CR', ascending=False).date[0].strftime('%d-%m-%Y')"
   ]
  },
  {
   "cell_type": "markdown",
   "id": "ef10c186",
   "metadata": {},
   "source": [
    "<span style=\"color:SteelBlue\">**4. Укажите значение CR из предыдущего вопроса в % (округлите до 1 цифры после запятой). Формат числа - с точкой.**</span>"
   ]
  },
  {
   "cell_type": "code",
   "execution_count": 17,
   "id": "a68e17f9",
   "metadata": {},
   "outputs": [
    {
     "data": {
      "text/plain": [
       "'39.3%'"
      ]
     },
     "execution_count": 17,
     "metadata": {},
     "output_type": "execute_result"
    }
   ],
   "source": [
    "install_df.sort_values('CR', ascending=False).CR[0]"
   ]
  },
  {
   "cell_type": "markdown",
   "id": "6ddaa09a",
   "metadata": {},
   "source": [
    "<span style=\"color:SteelBlue\">**5. С какого платного маркетингового канала пришло больше всего новых пользователей?**</span>"
   ]
  },
  {
   "cell_type": "code",
   "execution_count": 18,
   "id": "e6116e16",
   "metadata": {},
   "outputs": [
    {
     "data": {
      "text/plain": [
       "'yandex-direct'"
      ]
     },
     "execution_count": 18,
     "metadata": {},
     "output_type": "execute_result"
    }
   ],
   "source": [
    "df.groupby('utm_source').agg({'device_id':'nunique'}).sort_values('device_id', ascending=False).index[1]"
   ]
  },
  {
   "cell_type": "markdown",
   "id": "1fd0731d",
   "metadata": {},
   "source": [
    "<span style=\"color:SteelBlue\">**6. Проанализируйте на каком этапе воронки отваливается бОльшая часть клиентов. Посмотрите отдельно сценарии для зарегистрированных и для незарегистрированных пользователей. На каком шаге отваливается больше всего зарегистрированных пользователей?**</span>"
   ]
  },
  {
   "cell_type": "code",
   "execution_count": 19,
   "id": "e17d77ce",
   "metadata": {},
   "outputs": [],
   "source": [
    "# Создадим дату регистрации для каждого пользователя\n",
    "register_date = df[df['event'] == 'register'].groupby('device_id', as_index=False).agg(register_date=('date', 'min'))"
   ]
  },
  {
   "cell_type": "code",
   "execution_count": 20,
   "id": "3e947570",
   "metadata": {},
   "outputs": [],
   "source": [
    "# Объединим датафреймы, чтобы для каждого пользователя была видна дата регистрации\n",
    "df = df.merge(register_date, on='device_id', how='left')"
   ]
  },
  {
   "cell_type": "code",
   "execution_count": 21,
   "id": "1d20ccfb",
   "metadata": {},
   "outputs": [],
   "source": [
    "# Если дата регистрации больше даты совершенного ивента, значит на момент совершения пользователь не был зарегестрирован\n",
    "df['registred'] = (df['date'] > df['register_date']).astype(int)"
   ]
  },
  {
   "cell_type": "code",
   "execution_count": 22,
   "id": "8803876f",
   "metadata": {},
   "outputs": [],
   "source": [
    "# Создаем датафрейм, в котором разделим пользователей на зарегестрированных и незарегестрированных и делим на ивенты\n",
    "conversion_funnel = (df.groupby(['registred', 'event'], as_index=False)\n",
    "                       .agg(unique_users=('device_id', 'nunique'))\n",
    "                       .sort_values('unique_users', ascending=False))"
   ]
  },
  {
   "cell_type": "code",
   "execution_count": 23,
   "id": "c73e77d4",
   "metadata": {},
   "outputs": [],
   "source": [
    "# Добавим следующий шаг воронки, чтобы в конечном итоге посчитать конверсию в каждый шаг\n",
    "conversion_funnel['next_lvl_funnel'] = conversion_funnel['unique_users'].shift()\n",
    "conversion_funnel['CR'] = round((conversion_funnel.unique_users / conversion_funnel.next_lvl_funnel)*100, 1)"
   ]
  },
  {
   "cell_type": "code",
   "execution_count": 24,
   "id": "7ca9efdb",
   "metadata": {},
   "outputs": [
    {
     "data": {
      "text/html": [
       "<div>\n",
       "<style scoped>\n",
       "    .dataframe tbody tr th:only-of-type {\n",
       "        vertical-align: middle;\n",
       "    }\n",
       "\n",
       "    .dataframe tbody tr th {\n",
       "        vertical-align: top;\n",
       "    }\n",
       "\n",
       "    .dataframe thead th {\n",
       "        text-align: right;\n",
       "    }\n",
       "</style>\n",
       "<table border=\"1\" class=\"dataframe\">\n",
       "  <thead>\n",
       "    <tr style=\"text-align: right;\">\n",
       "      <th></th>\n",
       "      <th>registred</th>\n",
       "      <th>event</th>\n",
       "      <th>unique_users</th>\n",
       "      <th>next_lvl_funnel</th>\n",
       "      <th>CR</th>\n",
       "    </tr>\n",
       "  </thead>\n",
       "  <tbody>\n",
       "    <tr>\n",
       "      <th>1</th>\n",
       "      <td>0</td>\n",
       "      <td>app_start</td>\n",
       "      <td>190884</td>\n",
       "      <td>NaN</td>\n",
       "      <td>NaN</td>\n",
       "    </tr>\n",
       "    <tr>\n",
       "      <th>5</th>\n",
       "      <td>0</td>\n",
       "      <td>search</td>\n",
       "      <td>184488</td>\n",
       "      <td>190884.0</td>\n",
       "      <td>96.6</td>\n",
       "    </tr>\n",
       "    <tr>\n",
       "      <th>2</th>\n",
       "      <td>0</td>\n",
       "      <td>choose_item</td>\n",
       "      <td>155691</td>\n",
       "      <td>184488.0</td>\n",
       "      <td>84.4</td>\n",
       "    </tr>\n",
       "    <tr>\n",
       "      <th>0</th>\n",
       "      <td>0</td>\n",
       "      <td>app_install</td>\n",
       "      <td>154597</td>\n",
       "      <td>155691.0</td>\n",
       "      <td>99.3</td>\n",
       "    </tr>\n",
       "    <tr>\n",
       "      <th>6</th>\n",
       "      <td>0</td>\n",
       "      <td>tap_basket</td>\n",
       "      <td>125414</td>\n",
       "      <td>154597.0</td>\n",
       "      <td>81.1</td>\n",
       "    </tr>\n",
       "    <tr>\n",
       "      <th>4</th>\n",
       "      <td>0</td>\n",
       "      <td>register</td>\n",
       "      <td>78310</td>\n",
       "      <td>125414.0</td>\n",
       "      <td>62.4</td>\n",
       "    </tr>\n",
       "    <tr>\n",
       "      <th>3</th>\n",
       "      <td>0</td>\n",
       "      <td>purchase</td>\n",
       "      <td>67753</td>\n",
       "      <td>78310.0</td>\n",
       "      <td>86.5</td>\n",
       "    </tr>\n",
       "    <tr>\n",
       "      <th>7</th>\n",
       "      <td>1</td>\n",
       "      <td>app_start</td>\n",
       "      <td>40991</td>\n",
       "      <td>67753.0</td>\n",
       "      <td>60.5</td>\n",
       "    </tr>\n",
       "    <tr>\n",
       "      <th>10</th>\n",
       "      <td>1</td>\n",
       "      <td>search</td>\n",
       "      <td>40482</td>\n",
       "      <td>40991.0</td>\n",
       "      <td>98.8</td>\n",
       "    </tr>\n",
       "    <tr>\n",
       "      <th>8</th>\n",
       "      <td>1</td>\n",
       "      <td>choose_item</td>\n",
       "      <td>37926</td>\n",
       "      <td>40482.0</td>\n",
       "      <td>93.7</td>\n",
       "    </tr>\n",
       "    <tr>\n",
       "      <th>11</th>\n",
       "      <td>1</td>\n",
       "      <td>tap_basket</td>\n",
       "      <td>34517</td>\n",
       "      <td>37926.0</td>\n",
       "      <td>91.0</td>\n",
       "    </tr>\n",
       "    <tr>\n",
       "      <th>9</th>\n",
       "      <td>1</td>\n",
       "      <td>purchase</td>\n",
       "      <td>24880</td>\n",
       "      <td>34517.0</td>\n",
       "      <td>72.1</td>\n",
       "    </tr>\n",
       "  </tbody>\n",
       "</table>\n",
       "</div>"
      ],
      "text/plain": [
       "    registred        event  unique_users  next_lvl_funnel    CR\n",
       "1           0    app_start        190884              NaN   NaN\n",
       "5           0       search        184488         190884.0  96.6\n",
       "2           0  choose_item        155691         184488.0  84.4\n",
       "0           0  app_install        154597         155691.0  99.3\n",
       "6           0   tap_basket        125414         154597.0  81.1\n",
       "4           0     register         78310         125414.0  62.4\n",
       "3           0     purchase         67753          78310.0  86.5\n",
       "7           1    app_start         40991          67753.0  60.5\n",
       "10          1       search         40482          40991.0  98.8\n",
       "8           1  choose_item         37926          40482.0  93.7\n",
       "11          1   tap_basket         34517          37926.0  91.0\n",
       "9           1     purchase         24880          34517.0  72.1"
      ]
     },
     "execution_count": 24,
     "metadata": {},
     "output_type": "execute_result"
    }
   ],
   "source": [
    "conversion_funnel"
   ]
  },
  {
   "cell_type": "markdown",
   "id": "af5bd568",
   "metadata": {},
   "source": [
    "<span style=\"color:SteelBlue\">**7. Пользователи, пришедшие с каких каналов, показали самую низкую конверсию в первую покупку?**</span>"
   ]
  },
  {
   "cell_type": "code",
   "execution_count": 25,
   "id": "2a7ba373",
   "metadata": {},
   "outputs": [],
   "source": [
    "# Создадим цикл, который будет пробегаться по нашим источникам рекламы и выяснять конверсию в покупку\n",
    "utm_source = df.utm_source.unique().tolist()\n",
    "all_sources = dict()\n",
    "\n",
    "for source in utm_source:\n",
    "    app_start = (df[(df['event'] == 'app_start') & (df['utm_source'] == source)]\n",
    "                     .groupby('event', as_index=False)\n",
    "                     .agg(first_step=('device_id', 'nunique')))\n",
    "    purchase = (df[(df['event'] == 'purchase') & (df['utm_source'] == source)]\n",
    "                     .groupby('event', as_index=False)\n",
    "                     .agg(second_step=('device_id', 'nunique')))\n",
    "    \n",
    "    all_sources[source] = str(round(purchase.second_step[0] / app_start.first_step[0] * 100, 2)) + '%'"
   ]
  },
  {
   "cell_type": "code",
   "execution_count": 26,
   "id": "83a4a532",
   "metadata": {},
   "outputs": [
    {
     "data": {
      "text/plain": [
       "('yandex-direct', '29.55%')"
      ]
     },
     "execution_count": 26,
     "metadata": {},
     "output_type": "execute_result"
    }
   ],
   "source": [
    "min(all_sources.items(), key=lambda x: x[1])"
   ]
  },
  {
   "cell_type": "markdown",
   "id": "5329e8ed",
   "metadata": {},
   "source": [
    "<span style=\"color:SteelBlue\">**8. Пользователи, пришедшие с какого канала, имеют медианный первый чек выше? (учитываются только первые покупки пользователей)**</span>"
   ]
  },
  {
   "cell_type": "code",
   "execution_count": 27,
   "id": "8e6db782",
   "metadata": {},
   "outputs": [],
   "source": [
    "# Таким же способом найдем медианный чек для пришедших с каждого канала\n",
    "utm_source = df.utm_source.unique().tolist()\n",
    "all_sources_bills = dict()\n",
    "\n",
    "for source in utm_source:\n",
    "    purchase = (df[(df['event'] == 'purchase') & (df['utm_source'] == source)]\n",
    "                     .groupby('event', as_index=False)\n",
    "                     .agg(median_bill=('purchase_sum', 'median')))\n",
    "    \n",
    "    all_sources_bills[source] = purchase.median_bill[0]"
   ]
  },
  {
   "cell_type": "code",
   "execution_count": 28,
   "id": "e3954048",
   "metadata": {},
   "outputs": [
    {
     "data": {
      "text/plain": [
       "{'-': 397.5,\n",
       " 'vk_ads': 392.5,\n",
       " 'referal': 389.0,\n",
       " 'facebook_ads': 394.0,\n",
       " 'google_ads': 390.0,\n",
       " 'instagram_ads': 397.0,\n",
       " 'yandex-direct': 393.5}"
      ]
     },
     "execution_count": 28,
     "metadata": {},
     "output_type": "execute_result"
    }
   ],
   "source": [
    "all_sources_bills"
   ]
  },
  {
   "cell_type": "code",
   "execution_count": 29,
   "id": "9f279486",
   "metadata": {},
   "outputs": [
    {
     "data": {
      "text/plain": [
       "('referal', 389.0)"
      ]
     },
     "execution_count": 29,
     "metadata": {},
     "output_type": "execute_result"
    }
   ],
   "source": [
    "min(all_sources_bills.items(), key=lambda x: x[1])"
   ]
  },
  {
   "cell_type": "markdown",
   "id": "36bee444",
   "metadata": {},
   "source": [
    "Данные по затратам на рекламу:\n",
    "\n",
    "Яндекс – 10 491 707 руб.\n",
    "\n",
    "Гугл – 10 534 878 руб.\n",
    "\n",
    "Фейсбук – 8 590 498 руб.\n",
    "\n",
    "Инстаграм – 8 561626 руб.\n",
    "\n",
    "ВК – 9 553 531руб.\n",
    "\n",
    "Расходы на реферальную программу: если пользователь приведет друга и последний совершит первую покупку, то оба получат по 100 рублей.\n",
    "\n",
    "<span style=\"color:SteelBlue\">**9. Какой платный канал привлечения (среди рекламных) имеет самый высокий ROMI?**</span>"
   ]
  },
  {
   "cell_type": "code",
   "execution_count": 30,
   "id": "8ac2116c",
   "metadata": {},
   "outputs": [],
   "source": [
    "# Также циклом пробежимся по трафикам с различных каналов, узнаем валовую прибыль для рассчета ROMI\n",
    "utm_source = df.utm_source.unique().tolist()\n",
    "all_sources_sum = dict()\n",
    "\n",
    "for source in utm_source:\n",
    "    purchase = (df[(df['event'] == 'purchase') & (df['utm_source'] == source)]\n",
    "                     .groupby('event', as_index=False)\n",
    "                     .agg(median_bill=('purchase_sum', 'sum')))\n",
    "    \n",
    "    all_sources_sum[source] = purchase.median_bill[0]"
   ]
  },
  {
   "cell_type": "code",
   "execution_count": 31,
   "id": "875450f8",
   "metadata": {},
   "outputs": [],
   "source": [
    "# Находим количество потраченых денег на реферальную программу по формуле\n",
    "referal_spent = df.query('utm_source == \"referal\" & event == \"purchase\"').device_id.nunique() * 200"
   ]
  },
  {
   "cell_type": "code",
   "execution_count": 32,
   "id": "c7f25e2c",
   "metadata": {},
   "outputs": [],
   "source": [
    "# Запишем в словарь затраты на маркетинг\n",
    "marketing = {'vk_ads': 9553531, 'referal': referal_spent, 'facebook_ads': 8590498, 'google_ads': 10534878,\n",
    "             'instagram_ads': 8561626, 'yandex-direct': 10491707}"
   ]
  },
  {
   "cell_type": "code",
   "execution_count": 33,
   "id": "7d4e7d6b",
   "metadata": {},
   "outputs": [],
   "source": [
    "# Удалим из словаря неопределенный канал\n",
    "del all_sources_sum['-']"
   ]
  },
  {
   "cell_type": "code",
   "execution_count": 34,
   "id": "05c1deed",
   "metadata": {},
   "outputs": [],
   "source": [
    "# Найдем ROMI для каждого канала\n",
    "ROMI = dict()\n",
    "\n",
    "for key, value in all_sources_sum.items():\n",
    "    ROMI[key] = round((value - marketing[key])/marketing[key], 2)"
   ]
  },
  {
   "cell_type": "code",
   "execution_count": 35,
   "id": "82266b2e",
   "metadata": {},
   "outputs": [
    {
     "data": {
      "text/plain": [
       "('referal', 5.95)"
      ]
     },
     "execution_count": 35,
     "metadata": {},
     "output_type": "execute_result"
    }
   ],
   "source": [
    "max(ROMI.items(), key=lambda x: x[1])"
   ]
  },
  {
   "cell_type": "code",
   "execution_count": 36,
   "id": "3d6e7e11",
   "metadata": {},
   "outputs": [],
   "source": [
    "# Также найдем ROMI для каждого канала, но для этого необходимо исключить реферальную программу из рекламных кампаний\n",
    "ROMI = {key: value for key, value in ROMI.items() if key != 'referal'}"
   ]
  },
  {
   "cell_type": "code",
   "execution_count": 37,
   "id": "f32fbf44",
   "metadata": {},
   "outputs": [
    {
     "data": {
      "text/plain": [
       "('vk_ads', 0.72)"
      ]
     },
     "execution_count": 37,
     "metadata": {},
     "output_type": "execute_result"
    }
   ],
   "source": [
    "max(ROMI.items(), key=lambda x: x[1])"
   ]
  }
 ],
 "metadata": {
  "kernelspec": {
   "display_name": "Python 3 (ipykernel)",
   "language": "python",
   "name": "python3"
  },
  "language_info": {
   "codemirror_mode": {
    "name": "ipython",
    "version": 3
   },
   "file_extension": ".py",
   "mimetype": "text/x-python",
   "name": "python",
   "nbconvert_exporter": "python",
   "pygments_lexer": "ipython3",
   "version": "3.10.9"
  }
 },
 "nbformat": 4,
 "nbformat_minor": 5
}
